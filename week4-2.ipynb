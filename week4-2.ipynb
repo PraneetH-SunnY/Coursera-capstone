{
 "cells": [
  {
   "cell_type": "markdown",
   "metadata": {},
   "source": [
    "# Capstone Project - The Battle of Neighborhoods"
   ]
  },
  {
   "cell_type": "markdown",
   "metadata": {},
   "source": [
    "### Author: Praneeth Reddy"
   ]
  },
  {
   "cell_type": "markdown",
   "metadata": {},
   "source": [
    "## Data Section"
   ]
  },
  {
   "cell_type": "markdown",
   "metadata": {},
   "source": [
    "•\tData title: - \n",
    "Open Data published by Government of UK under the section HM Land Registry: Price Paid Data\n",
    "\n",
    "Type of data: -\n",
    "Dataset in form of CSV file\n",
    "\n",
    "Duration: - \n",
    "May 2019 data\n",
    "\n",
    "Description of the dataset: -\n",
    "Price Paid Data includes information on all property sales in England and Wales that are sold for full market value and are lodged with us for registration.\n",
    "\n",
    "The dataset includes the transactions received at HM Land Registry in the period from the first to the last day of August 2018.\n",
    "\n",
    "\n",
    "Source: -\n",
    "http://landregistry.data.gov.uk/\n",
    "\n"
   ]
  },
  {
   "cell_type": "markdown",
   "metadata": {},
   "source": [
    "•\tData title: - \n",
    "Google Maps Geocoding API \n",
    "\n",
    "Type of data: -\n",
    "JSON\n",
    "\n",
    "Duration: - \n",
    "N/A\n",
    "\n",
    "Description of the data: -\n",
    "Location coordinates obtained by Gmaps API calls.\n",
    "\n",
    "Location Information obtained from Price Paid Dataset is used to obtain the location coordinates from Google Maps.\n",
    "\n",
    "A separate Python script has been developed to extract the unique street names, district names from the Price Paid Dataset and embed those in the GMaps API calls to obtain the required information.\n",
    "\n",
    "Source: -\n",
    "Google Cloud Platform/ Google Maps\n"
   ]
  },
  {
   "cell_type": "markdown",
   "metadata": {},
   "source": [
    "\n",
    "•\tData title: -\n",
    "Foursquare location data\n",
    "\n",
    "Type of data: -\n",
    "JSON\n",
    "\n",
    "Duration: - \n",
    "N/A\n",
    "\n",
    "Description of the data: -\n",
    "Location coordinates obtained by Foursquare API calls.\n",
    "\n",
    "To determine the proximity of various amenities as per the client’s requirement, Foursquare location data is used.\n",
    "\n",
    "Source: -\n",
    "https://foursquare.com/\n"
   ]
  },
  {
   "cell_type": "code",
   "execution_count": null,
   "metadata": {},
   "outputs": [],
   "source": []
  }
 ],
 "metadata": {
  "kernelspec": {
   "display_name": "Python 3",
   "language": "python",
   "name": "python3"
  },
  "language_info": {
   "codemirror_mode": {
    "name": "ipython",
    "version": 3
   },
   "file_extension": ".py",
   "mimetype": "text/x-python",
   "name": "python",
   "nbconvert_exporter": "python",
   "pygments_lexer": "ipython3",
   "version": "3.6.8"
  }
 },
 "nbformat": 4,
 "nbformat_minor": 2
}
